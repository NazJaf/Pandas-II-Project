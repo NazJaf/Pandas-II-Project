{
 "cells": [
  {
   "cell_type": "markdown",
   "metadata": {},
   "source": [
    "# AirBnB NY Locations Data Case Study\n",
    "\n",
    "In this final project, you task will be to take the data provided and find evidance to answer the following questions.\n",
    "\n",
    "1. Which hosts are the busiest and why?\n",
    "2. How many neighborhood groups are available and which shows up the most?\n",
    "3. Are private rooms the most popular in manhattan?\n",
    "4. Which hosts are the busiest and based on their reviews?\n",
    "5. Which neighorhood group has the highest average price?\n",
    "6. Which neighborhood group has the highest total price?\n",
    "7. Which top 5 hosts have the highest total price?\n",
    "8. Who currently has no (zero) availability with a review count of 100 or more?\n",
    "9. What host has the highest total of prices and where are they located?\n",
    "10. When did Danielle from Queens last receive a review?\n",
    "\n",
    "You will be given **4 hours** to complete this assignment. \n",
    "**Be Advised** I will go dark for this intire assignment time period. That said, any questions that you would like to ask about the data, or the project **MUST** be asked before the time starts. Once the time has started, I can no longer give information.\n",
    "\n",
    "This is to similate what you will face when you are out in the wild. \n",
    "\n",
    "Happy Coding!"
   ]
  },
  {
   "cell_type": "code",
   "execution_count": 4,
   "metadata": {},
   "outputs": [],
   "source": [
    "import numpy as np\n",
    "import pandas as pd\n",
    "import matplotlib.pyplot as plt"
   ]
  },
  {
   "cell_type": "code",
   "execution_count": 7,
   "metadata": {},
   "outputs": [
    {
     "data": {
      "text/html": [
       "<div>\n",
       "<style scoped>\n",
       "    .dataframe tbody tr th:only-of-type {\n",
       "        vertical-align: middle;\n",
       "    }\n",
       "\n",
       "    .dataframe tbody tr th {\n",
       "        vertical-align: top;\n",
       "    }\n",
       "\n",
       "    .dataframe thead th {\n",
       "        text-align: right;\n",
       "    }\n",
       "</style>\n",
       "<table border=\"1\" class=\"dataframe\">\n",
       "  <thead>\n",
       "    <tr style=\"text-align: right;\">\n",
       "      <th></th>\n",
       "      <th>id</th>\n",
       "      <th>name</th>\n",
       "      <th>host_id</th>\n",
       "      <th>host_name</th>\n",
       "      <th>neighbourhood_group</th>\n",
       "      <th>neighbourhood</th>\n",
       "      <th>latitude</th>\n",
       "      <th>longitude</th>\n",
       "      <th>room_type</th>\n",
       "      <th>price</th>\n",
       "      <th>minimum_nights</th>\n",
       "      <th>number_of_reviews</th>\n",
       "      <th>last_review</th>\n",
       "      <th>reviews_per_month</th>\n",
       "      <th>calculated_host_listings_count</th>\n",
       "      <th>availability_365</th>\n",
       "    </tr>\n",
       "  </thead>\n",
       "  <tbody>\n",
       "    <tr>\n",
       "      <th>0</th>\n",
       "      <td>2539</td>\n",
       "      <td>Clean &amp; quiet apt home by the park</td>\n",
       "      <td>2787</td>\n",
       "      <td>John</td>\n",
       "      <td>Brooklyn</td>\n",
       "      <td>Kensington</td>\n",
       "      <td>40.64749</td>\n",
       "      <td>-73.97237</td>\n",
       "      <td>Private room</td>\n",
       "      <td>149</td>\n",
       "      <td>1</td>\n",
       "      <td>9</td>\n",
       "      <td>2018-10-19</td>\n",
       "      <td>0.21</td>\n",
       "      <td>6</td>\n",
       "      <td>365</td>\n",
       "    </tr>\n",
       "    <tr>\n",
       "      <th>1</th>\n",
       "      <td>2595</td>\n",
       "      <td>Skylit Midtown Castle</td>\n",
       "      <td>2845</td>\n",
       "      <td>Jennifer</td>\n",
       "      <td>Manhattan</td>\n",
       "      <td>Midtown</td>\n",
       "      <td>40.75362</td>\n",
       "      <td>-73.98377</td>\n",
       "      <td>Entire home/apt</td>\n",
       "      <td>225</td>\n",
       "      <td>1</td>\n",
       "      <td>45</td>\n",
       "      <td>2019-05-21</td>\n",
       "      <td>0.38</td>\n",
       "      <td>2</td>\n",
       "      <td>355</td>\n",
       "    </tr>\n",
       "    <tr>\n",
       "      <th>2</th>\n",
       "      <td>3647</td>\n",
       "      <td>THE VILLAGE OF HARLEM....NEW YORK !</td>\n",
       "      <td>4632</td>\n",
       "      <td>Elisabeth</td>\n",
       "      <td>Manhattan</td>\n",
       "      <td>Harlem</td>\n",
       "      <td>40.80902</td>\n",
       "      <td>-73.94190</td>\n",
       "      <td>Private room</td>\n",
       "      <td>150</td>\n",
       "      <td>3</td>\n",
       "      <td>0</td>\n",
       "      <td>NaN</td>\n",
       "      <td>NaN</td>\n",
       "      <td>1</td>\n",
       "      <td>365</td>\n",
       "    </tr>\n",
       "    <tr>\n",
       "      <th>3</th>\n",
       "      <td>3831</td>\n",
       "      <td>Cozy Entire Floor of Brownstone</td>\n",
       "      <td>4869</td>\n",
       "      <td>LisaRoxanne</td>\n",
       "      <td>Brooklyn</td>\n",
       "      <td>Clinton Hill</td>\n",
       "      <td>40.68514</td>\n",
       "      <td>-73.95976</td>\n",
       "      <td>Entire home/apt</td>\n",
       "      <td>89</td>\n",
       "      <td>1</td>\n",
       "      <td>270</td>\n",
       "      <td>2019-07-05</td>\n",
       "      <td>4.64</td>\n",
       "      <td>1</td>\n",
       "      <td>194</td>\n",
       "    </tr>\n",
       "    <tr>\n",
       "      <th>4</th>\n",
       "      <td>5022</td>\n",
       "      <td>Entire Apt: Spacious Studio/Loft by central park</td>\n",
       "      <td>7192</td>\n",
       "      <td>Laura</td>\n",
       "      <td>Manhattan</td>\n",
       "      <td>East Harlem</td>\n",
       "      <td>40.79851</td>\n",
       "      <td>-73.94399</td>\n",
       "      <td>Entire home/apt</td>\n",
       "      <td>80</td>\n",
       "      <td>10</td>\n",
       "      <td>9</td>\n",
       "      <td>2018-11-19</td>\n",
       "      <td>0.10</td>\n",
       "      <td>1</td>\n",
       "      <td>0</td>\n",
       "    </tr>\n",
       "  </tbody>\n",
       "</table>\n",
       "</div>"
      ],
      "text/plain": [
       "     id                                              name  host_id  \\\n",
       "0  2539                Clean & quiet apt home by the park     2787   \n",
       "1  2595                             Skylit Midtown Castle     2845   \n",
       "2  3647               THE VILLAGE OF HARLEM....NEW YORK !     4632   \n",
       "3  3831                   Cozy Entire Floor of Brownstone     4869   \n",
       "4  5022  Entire Apt: Spacious Studio/Loft by central park     7192   \n",
       "\n",
       "     host_name neighbourhood_group neighbourhood  latitude  longitude  \\\n",
       "0         John            Brooklyn    Kensington  40.64749  -73.97237   \n",
       "1     Jennifer           Manhattan       Midtown  40.75362  -73.98377   \n",
       "2    Elisabeth           Manhattan        Harlem  40.80902  -73.94190   \n",
       "3  LisaRoxanne            Brooklyn  Clinton Hill  40.68514  -73.95976   \n",
       "4        Laura           Manhattan   East Harlem  40.79851  -73.94399   \n",
       "\n",
       "         room_type  price  minimum_nights  number_of_reviews last_review  \\\n",
       "0     Private room    149               1                  9  2018-10-19   \n",
       "1  Entire home/apt    225               1                 45  2019-05-21   \n",
       "2     Private room    150               3                  0         NaN   \n",
       "3  Entire home/apt     89               1                270  2019-07-05   \n",
       "4  Entire home/apt     80              10                  9  2018-11-19   \n",
       "\n",
       "   reviews_per_month  calculated_host_listings_count  availability_365  \n",
       "0               0.21                               6               365  \n",
       "1               0.38                               2               355  \n",
       "2                NaN                               1               365  \n",
       "3               4.64                               1               194  \n",
       "4               0.10                               1                 0  "
      ]
     },
     "execution_count": 7,
     "metadata": {},
     "output_type": "execute_result"
    }
   ],
   "source": [
    "air_bnb = pd.read_csv(r\"C:\\Users\\Zaur\\OneDrive\\Desktop\\Disk\\2023Nazrin\\Bootcamp_coding temple\\Python Advanced\\Python advanced_task\\PandasII_project\\AB_NYC_2019 - AB_NYC_2019.csv\")\n",
    "air_bnb.head()"
   ]
  },
  {
   "cell_type": "code",
   "execution_count": 10,
   "metadata": {},
   "outputs": [
    {
     "name": "stdout",
     "output_type": "stream",
     "text": [
      "Number of neighborhood groups: 5\n",
      "Most common neighborhood group: Manhattan\n"
     ]
    }
   ],
   "source": [
    "# How many neighborhood groups are available and which shows up the most?\n",
    "\n",
    "num_neighborhood_groups = air_bnb['neighbourhood_group'].nunique()\n",
    "\n",
    "most_common_neighborhood_group = air_bnb['neighbourhood_group'].mode()[0]\n",
    "\n",
    "print(f\"Number of neighborhood groups: {num_neighborhood_groups}\")\n",
    "print(f\"Most common neighborhood group: {most_common_neighborhood_group}\")"
   ]
  },
  {
   "cell_type": "code",
   "execution_count": 11,
   "metadata": {},
   "outputs": [
    {
     "name": "stdout",
     "output_type": "stream",
     "text": [
      "Room type counts in Manhattan:\n",
      "Entire home/apt    13199\n",
      "Private room        7982\n",
      "Shared room          480\n",
      "Name: room_type, dtype: int64\n",
      "Most common room type in Manhattan: Entire home/apt\n",
      "Count of most common room type: 13199\n"
     ]
    }
   ],
   "source": [
    "# Are private rooms the most popular in manhattan?\n",
    "manhattan_data = air_bnb[air_bnb['neighbourhood_group'] == 'Manhattan']\n",
    "room_type_counts = manhattan_data['room_type'].value_counts()\n",
    "\n",
    "print(\"Room type counts in Manhattan:\")\n",
    "print(room_type_counts)\n",
    "\n",
    "most_common_room_type = room_type_counts.idxmax()\n",
    "most_common_room_count = room_type_counts.max()\n",
    "\n",
    "print(f\"Most common room type in Manhattan: {most_common_room_type}\")\n",
    "print(f\"Count of most common room type: {most_common_room_count}\")\n"
   ]
  },
  {
   "cell_type": "code",
   "execution_count": 12,
   "metadata": {},
   "outputs": [
    {
     "name": "stdout",
     "output_type": "stream",
     "text": [
      "Busiest hosts based on the number of reviews:\n",
      "host_id\n",
      "37312959    2273\n",
      "344035      2205\n",
      "26432133    2017\n",
      "35524316    1971\n",
      "40176101    1818\n",
      "Name: number_of_reviews, dtype: int64\n",
      "\n",
      "Details of the busiest hosts:\n",
      "        host_id                       host_name  number_of_reviews\n",
      "7086   26432133                        Danielle                430\n",
      "8853   35524316                    Yasu & Akiko                176\n",
      "8854   35524316                    Yasu & Akiko                182\n",
      "8861   35524316                    Yasu & Akiko                179\n",
      "8871   35524316                    Yasu & Akiko                192\n",
      "8872   35524316                    Yasu & Akiko                162\n",
      "8873   35524316                    Yasu & Akiko                201\n",
      "8874   35524316                    Yasu & Akiko                200\n",
      "8876   35524316                    Yasu & Akiko                203\n",
      "8877   35524316                    Yasu & Akiko                153\n",
      "8878   35524316                    Yasu & Akiko                189\n",
      "9323   37312959                            Maya                448\n",
      "9689     344035  Brooklyn&   Breakfast    -Len-                258\n",
      "9947   40176101                           Brady                237\n",
      "10420    344035  Brooklyn&   Breakfast    -Len-                197\n",
      "10501  40176101                           Brady                296\n",
      "10502  40176101                           Brady                291\n",
      "10503  40176101                           Brady                284\n",
      "10506  40176101                           Brady                327\n",
      "10540  35524316                    Yasu & Akiko                134\n",
      "10544    344035  Brooklyn&   Breakfast    -Len-                222\n",
      "10623  37312959                            Maya                543\n",
      "10676    344035  Brooklyn&   Breakfast    -Len-                186\n",
      "13612  37312959                            Maya                459\n",
      "13829    344035  Brooklyn&   Breakfast    -Len-                204\n",
      "13833    344035  Brooklyn&   Breakfast    -Len-                 64\n",
      "13968    344035  Brooklyn&   Breakfast    -Len-                238\n",
      "14230    344035  Brooklyn&   Breakfast    -Len-                245\n",
      "14319    344035  Brooklyn&   Breakfast    -Len-                257\n",
      "14422    344035  Brooklyn&   Breakfast    -Len-                 25\n",
      "14699  37312959                            Maya                412\n",
      "18045  37312959                            Maya                411\n",
      "18184    344035  Brooklyn&   Breakfast    -Len-                102\n",
      "18879    344035  Brooklyn&   Breakfast    -Len-                168\n",
      "20403  26432133                        Danielle                510\n",
      "21517  26432133                        Danielle                417\n",
      "22068  26432133                        Danielle                224\n",
      "22469  26432133                        Danielle                436\n",
      "29357  40176101                           Brady                 92\n",
      "37073    344035  Brooklyn&   Breakfast    -Len-                 39\n"
     ]
    }
   ],
   "source": [
    "# Which hosts are the busiest and based on their reviews?\n",
    "\n",
    "host_reviews = air_bnb.groupby('host_id')['number_of_reviews'].sum()\n",
    "busiest_hosts = host_reviews.sort_values(ascending=False)\n",
    "\n",
    "print(\"Busiest hosts based on the number of reviews:\")\n",
    "print(busiest_hosts.head())\n",
    "\n",
    "top_host_ids = busiest_hosts.head().index\n",
    "top_hosts_details = air_bnb[air_bnb['host_id'].isin(top_host_ids)][['host_id', 'host_name', 'number_of_reviews']].drop_duplicates()\n",
    "print(\"\\nDetails of the busiest hosts:\")\n",
    "print(top_hosts_details)"
   ]
  },
  {
   "cell_type": "code",
   "execution_count": 13,
   "metadata": {},
   "outputs": [
    {
     "name": "stdout",
     "output_type": "stream",
     "text": [
      "Neighborhood group with the highest average price: Manhattan\n",
      "Highest average price: $196.88\n"
     ]
    }
   ],
   "source": [
    "#Which neighorhood group has the highest average price?\n",
    "average_price_by_neighborhood = air_bnb.groupby('neighbourhood_group')['price'].mean()\n",
    "highest_avg_price_group = average_price_by_neighborhood.idxmax()\n",
    "highest_avg_price = average_price_by_neighborhood.max()\n",
    "\n",
    "\n",
    "print(f\"Neighborhood group with the highest average price: {highest_avg_price_group}\")\n",
    "print(f\"Highest average price: ${highest_avg_price:.2f}\")"
   ]
  },
  {
   "cell_type": "code",
   "execution_count": 14,
   "metadata": {},
   "outputs": [
    {
     "name": "stdout",
     "output_type": "stream",
     "text": [
      "Neighborhood group with the highest total price: Manhattan\n",
      "Highest total price: $4264527.00\n"
     ]
    }
   ],
   "source": [
    "# Which neighbor hood group has the highest total price?\n",
    "total_price_by_neighborhood = air_bnb.groupby('neighbourhood_group')['price'].sum()\n",
    "\n",
    "highest_total_price_group = total_price_by_neighborhood.idxmax()\n",
    "highest_total_price = total_price_by_neighborhood.max()\n",
    "\n",
    "print(f\"Neighborhood group with the highest total price: {highest_total_price_group}\")\n",
    "print(f\"Highest total price: ${highest_total_price:.2f}\")"
   ]
  },
  {
   "cell_type": "code",
   "execution_count": 15,
   "metadata": {},
   "outputs": [
    {
     "name": "stdout",
     "output_type": "stream",
     "text": [
      "Top 5 hosts with the highest total price:\n",
      "host_id\n",
      "219517861    82795\n",
      "107434423    70331\n",
      "156158778    37097\n",
      "205031545    35294\n",
      "30283594     33581\n",
      "Name: price, dtype: int64\n",
      "\n",
      "Details of the top 5 hosts:\n",
      "     host_id     host_name  price\n",
      "0   30283594          Kara  12595\n",
      "1  107434423    Blueground  33784\n",
      "2  156158778         Sally  37097\n",
      "3  205031545    Red Awning   3781\n",
      "4  219517861  Sonder (NYC)  35357\n"
     ]
    }
   ],
   "source": [
    "#Which top 5 hosts have the highest total price?\n",
    "total_price_by_host = air_bnb.groupby('host_id')['price'].sum()\n",
    "top_hosts_by_price = total_price_by_host.sort_values(ascending=False).head(5)\n",
    "top_host_ids = top_hosts_by_price.index\n",
    "top_hosts_details = air_bnb[air_bnb['host_id'].isin(top_host_ids)][['host_id', 'host_name', 'price']].drop_duplicates()\n",
    "top_hosts_details = top_hosts_details.groupby('host_id').agg({'host_name': 'first', 'price': 'sum'}).reset_index()\n",
    "\n",
    "\n",
    "print(\"Top 5 hosts with the highest total price:\")\n",
    "print(top_hosts_by_price)\n",
    "print(\"\\nDetails of the top 5 hosts:\")\n",
    "print(top_hosts_details)"
   ]
  },
  {
   "cell_type": "code",
   "execution_count": 16,
   "metadata": {},
   "outputs": [
    {
     "name": "stdout",
     "output_type": "stream",
     "text": [
      "Hosts with zero availability and a review count of 100 or more:\n",
      "         host_id   host_name  number_of_reviews  availability_365\n",
      "8           7490   MaryEllen                118                 0\n",
      "94         79402  Christiana                168                 0\n",
      "132       129352         Sol                193                 0\n",
      "174       193722       Coral                114                 0\n",
      "180        67778        Doug                206                 0\n",
      "...          ...         ...                ...               ...\n",
      "29581  127740507    Kathleen                103                 0\n",
      "30461  176185168       Janet                119                 0\n",
      "31250   21074914      Albert                102                 0\n",
      "32670   40119874    Stephany                131                 0\n",
      "35014  209549523     Mariluz                112                 0\n",
      "\n",
      "[162 rows x 4 columns]\n"
     ]
    }
   ],
   "source": [
    "# Who currently has no (zero) availability with a review count of 100 or more?\n",
    "filtered_hosts = air_bnb[(air_bnb['availability_365'] == 0) & (air_bnb['number_of_reviews'] >= 100)]\n",
    "hosts_details = filtered_hosts[['host_id', 'host_name', 'number_of_reviews', 'availability_365']].drop_duplicates()\n",
    "\n",
    "print(\"Hosts with zero availability and a review count of 100 or more:\")\n",
    "print(hosts_details)\n"
   ]
  },
  {
   "cell_type": "code",
   "execution_count": 17,
   "metadata": {},
   "outputs": [
    {
     "name": "stdout",
     "output_type": "stream",
     "text": [
      "Host with the highest total price:\n",
      "Host ID: 219517861\n",
      "Total Price: $82795.00\n",
      "Location details:\n",
      "         host_id     host_name neighbourhood_group       neighbourhood\n",
      "38293  219517861  Sonder (NYC)           Manhattan  Financial District\n",
      "39769  219517861  Sonder (NYC)           Manhattan         Murray Hill\n",
      "39772  219517861  Sonder (NYC)           Manhattan      Hell's Kitchen\n",
      "42379  219517861  Sonder (NYC)           Manhattan             Midtown\n",
      "42386  219517861  Sonder (NYC)           Manhattan    Theater District\n",
      "42492  219517861  Sonder (NYC)           Manhattan             Chelsea\n",
      "43558  219517861  Sonder (NYC)           Manhattan     Upper East Side\n"
     ]
    }
   ],
   "source": [
    "# What host has the highest total of prices and where are they located?\n",
    "\n",
    "total_price_by_host = air_bnb.groupby('host_id')['price'].sum()\n",
    "highest_total_price_host_id = total_price_by_host.idxmax()\n",
    "highest_total_price = total_price_by_host.max()\n",
    "host_details = air_bnb[air_bnb['host_id'] == highest_total_price_host_id][['host_id', 'host_name', 'neighbourhood_group', 'neighbourhood']].drop_duplicates()\n",
    "\n",
    "print(f\"Host with the highest total price:\")\n",
    "print(f\"Host ID: {highest_total_price_host_id}\")\n",
    "print(f\"Total Price: ${highest_total_price:.2f}\")\n",
    "print(\"Location details:\")\n",
    "print(host_details)"
   ]
  },
  {
   "cell_type": "code",
   "execution_count": 18,
   "metadata": {},
   "outputs": [
    {
     "name": "stdout",
     "output_type": "stream",
     "text": [
      "Danielle from Queens last received a review on: 2019-07-08 00:00:00\n"
     ]
    },
    {
     "name": "stderr",
     "output_type": "stream",
     "text": [
      "C:\\Users\\Zaur\\AppData\\Local\\Temp\\ipykernel_26772\\236388615.py:4: SettingWithCopyWarning: \n",
      "A value is trying to be set on a copy of a slice from a DataFrame.\n",
      "Try using .loc[row_indexer,col_indexer] = value instead\n",
      "\n",
      "See the caveats in the documentation: https://pandas.pydata.org/pandas-docs/stable/user_guide/indexing.html#returning-a-view-versus-a-copy\n",
      "  danielle_queens['last_review'] = pd.to_datetime(danielle_queens['last_review'], errors='coerce')\n"
     ]
    }
   ],
   "source": [
    "# When did Danielle from Queens last receive a review?\n",
    "danielle_queens = air_bnb[(air_bnb['host_name'] == 'Danielle') & (air_bnb['neighbourhood_group'] == 'Queens')]\n",
    "if not danielle_queens.empty:\n",
    "    danielle_queens['last_review'] = pd.to_datetime(danielle_queens['last_review'], errors='coerce')\n",
    "    most_recent_review = danielle_queens['last_review'].max()\n",
    "    \n",
    "    print(f\"Danielle from Queens last received a review on: {most_recent_review}\")\n",
    "else:\n",
    "    print(\"No entries found for Danielle from Queens.\")\n"
   ]
  },
  {
   "cell_type": "markdown",
   "metadata": {},
   "source": [
    "## Further Questions\n",
    "\n",
    "1. Which host has the most listings?"
   ]
  },
  {
   "cell_type": "code",
   "execution_count": 19,
   "metadata": {},
   "outputs": [
    {
     "name": "stdout",
     "output_type": "stream",
     "text": [
      "Host with the most listings:\n",
      "Host ID: 219517861\n",
      "Number of Listings: 327\n",
      "Host details:\n",
      "         host_id     host_name\n",
      "38293  219517861  Sonder (NYC)\n"
     ]
    }
   ],
   "source": [
    "listings_count_by_host = air_bnb.groupby('host_id').size()\n",
    "most_listings_host_id = listings_count_by_host.idxmax()\n",
    "most_listings_count = listings_count_by_host.max()\n",
    "\n",
    "host_details = air_bnb[air_bnb['host_id'] == most_listings_host_id][['host_id', 'host_name']].drop_duplicates()\n",
    "\n",
    "print(f\"Host with the most listings:\")\n",
    "print(f\"Host ID: {most_listings_host_id}\")\n",
    "print(f\"Number of Listings: {most_listings_count}\")\n",
    "print(\"Host details:\")\n",
    "print(host_details)"
   ]
  },
  {
   "cell_type": "markdown",
   "metadata": {},
   "source": [
    "2. How many listings have completely open availability?"
   ]
  },
  {
   "cell_type": "code",
   "execution_count": 20,
   "metadata": {},
   "outputs": [
    {
     "name": "stdout",
     "output_type": "stream",
     "text": [
      "Number of listings with completely open availability: 1295\n"
     ]
    }
   ],
   "source": [
    "open_availability_count = air_bnb[air_bnb['availability_365'] == 365].shape[0]\n",
    "print(f\"Number of listings with completely open availability: {open_availability_count}\")"
   ]
  },
  {
   "cell_type": "markdown",
   "metadata": {},
   "source": [
    "3. What room_types have the highest review numbers?"
   ]
  },
  {
   "cell_type": "code",
   "execution_count": 21,
   "metadata": {},
   "outputs": [
    {
     "name": "stdout",
     "output_type": "stream",
     "text": [
      "Room types with the highest average number of reviews:\n",
      "room_type\n",
      "Private room       24.112962\n",
      "Entire home/apt    22.842418\n",
      "Shared room        16.600000\n",
      "Name: number_of_reviews, dtype: float64\n"
     ]
    }
   ],
   "source": [
    "average_reviews_by_room_type = air_bnb.groupby('room_type')['number_of_reviews'].mean()\n",
    "sorted_room_types = average_reviews_by_room_type.sort_values(ascending=False)\n",
    "\n",
    "print(\"Room types with the highest average number of reviews:\")\n",
    "print(sorted_room_types)"
   ]
  }
 ],
 "metadata": {
  "kernelspec": {
   "display_name": "Python 3 (ipykernel)",
   "language": "python",
   "name": "python3"
  },
  "language_info": {
   "codemirror_mode": {
    "name": "ipython",
    "version": 3
   },
   "file_extension": ".py",
   "mimetype": "text/x-python",
   "name": "python",
   "nbconvert_exporter": "python",
   "pygments_lexer": "ipython3",
   "version": "3.9.13"
  }
 },
 "nbformat": 4,
 "nbformat_minor": 2
}
